{
  "nbformat": 4,
  "nbformat_minor": 0,
  "metadata": {
    "colab": {
      "provenance": [],
      "authorship_tag": "ABX9TyNUF9ujG7Y6KOzrr7xi/zQO",
      "include_colab_link": true
    },
    "kernelspec": {
      "name": "python3",
      "display_name": "Python 3"
    },
    "language_info": {
      "name": "python"
    }
  },
  "cells": [
    {
      "cell_type": "markdown",
      "metadata": {
        "id": "view-in-github",
        "colab_type": "text"
      },
      "source": [
        "<a href=\"https://colab.research.google.com/github/levizwannah/drunk-detection-QCNN/blob/main/QCNNDrunkDetection.ipynb\" target=\"_parent\"><img src=\"https://colab.research.google.com/assets/colab-badge.svg\" alt=\"Open In Colab\"/></a>"
      ]
    },
    {
      "cell_type": "markdown",
      "source": [
        "**Image Preprocessing**  \n",
        "Information on the Dataset\n",
        "***********************************************************\n",
        "\n",
        "                SOBER  -  DRUNK   DATA BASE\n",
        "\n",
        "(Started September 2012    ----   Completed April 2013)\n",
        "\n",
        "Electronics Laboratory - Physics Department\n",
        "University of Patras  -  Greece\n",
        "\n",
        "By Georgia Koukiou and Vassilis Anastassopoulos\n",
        "gkoukiou@upatras.gr      vassilis@upatras.gr \n",
        "\n",
        "Every body can use this data base testing and publishing \n",
        "experimental results, provided that she/he will refer to \n",
        "relevant publications of the creators of this database. \n",
        "\n",
        "***********************************************************  \n",
        "**The Dataset**  \n",
        "It contains data for 41 persons.\n",
        "For each person there are 16 different acquisitions\n",
        "Each acquisition corresponds to each file of the data base\n",
        "Each file contains 50 sequential frames of the same object \n",
        "acquired every 100msec, i.e. in 5 sec all 50 frames.  \n",
        "\n",
        "The following MATLAB program is provided for reading each \n",
        "   separate file\n",
        "\n",
        "***********************************************************\n",
        "```\n",
        "clc;\n",
        "clear all;\n",
        "close all;\n",
        "\n",
        "c=zeros(128,160);\n",
        "for i=1:50\n",
        "    a(i).data=imread('filename.tif',i);\n",
        "    xm(i).data=min(min(a(i).data)); \n",
        "    a(i).data=(a(i).data-xm(i).data);\n",
        "    for j=1:128\n",
        "        for k=1:160\n",
        "            c(j,k)=c(j,k)+a(i).data(j,k);\n",
        "        end\n",
        "    end\n",
        "end\n",
        "```\n",
        "***********************************************************\n",
        "\n",
        "Infrared image acquisition\n",
        "\n",
        "Time 20:50\n",
        "Firstly, for each sober person, which is in calm condition,\n",
        "an infrared sequence (1) is obtained from his Face (f), from \n",
        "his Eyes (e), from his Ear-profile (r), and his Hand (h).\n",
        "\n",
        "> 21:00 - 22:00\n",
        "After that four glasses of wine are drunk in one hour time.\n",
        "\n",
        "> 22:20\n",
        "A new sequence (2) of infrared images is acquired \n",
        "    (f), (e), (r), (h).\n",
        "\n",
        "> 22:50\n",
        "A new sequence (3) of infrared images is acquired \n",
        "    (f), (e), (r), (h).\n",
        "\n",
        "> 23:20\n",
        "A new sequence (4) of infrared images is acquired \n",
        "    (f), (e), (r), (h).\n",
        "\n",
        "We had the people in groups of 4 or 5 or 6 persons. \n",
        "For two groups (10 people) we asked the police to carry \n",
        "out measurement with alcohol-meter. \n",
        "We have the correspondence of these measurements \n",
        "with the persons. \n",
        "\n",
        "***********************************************************\n",
        "\n",
        "Naming the files\n",
        "serialnumber_personfirstname_acquisitionsequence_imagecontent\n",
        "_sex_age_weight__alcoholmeter\n",
        "\n",
        "The two last measurements were obtained from few persons\n",
        "\n",
        "***********************************************************"
      ],
      "metadata": {
        "id": "FqSFzmdLTQgD"
      }
    },
    {
      "cell_type": "code",
      "execution_count": 18,
      "metadata": {
        "id": "EBh8DYJ2R32Y"
      },
      "outputs": [],
      "source": [
        "import tensorflow as tf\n",
        "import numpy as np\n",
        "import os\n",
        "import matplotlib.pyplot as plt\n",
        "from zipfile import ZipFile as zp"
      ]
    },
    {
      "cell_type": "code",
      "source": [
        "from google.colab import drive\n",
        "drive.mount('/content/drive')"
      ],
      "metadata": {
        "colab": {
          "base_uri": "https://localhost:8080/"
        },
        "id": "xx7EgkvaMRwb",
        "outputId": "c7d30eaf-81f6-4704-a6a8-5639b27dafcc"
      },
      "execution_count": 1,
      "outputs": [
        {
          "output_type": "stream",
          "name": "stdout",
          "text": [
            "Mounted at /content/drive\n"
          ]
        }
      ]
    },
    {
      "cell_type": "code",
      "source": [
        "imageDirectory = \"/content/drive/MyDrive/isp2Data\";\n",
        "combinedData = tf.data.Dataset.list_files(imageDirectory + \"/*.zip\", shuffle=False)\n",
        "combineDir = \"/content/drive/MyDrive/isp2Data/combined\""
      ],
      "metadata": {
        "id": "OpIR4mKZTZ8a"
      },
      "execution_count": 5,
      "outputs": []
    },
    {
      "cell_type": "code",
      "source": [
        "# extracting data\n",
        "for f in combinedData.take(-1):\n",
        "  with zp(f.numpy().decode(\"ASCII\"), 'r') as zf:\n",
        "    zf.extractall(combineDir)"
      ],
      "metadata": {
        "id": "3xK8Q2BzWBkW"
      },
      "execution_count": 20,
      "outputs": []
    },
    {
      "cell_type": "code",
      "source": [
        "# preprocessing the unzipped data\n"
      ],
      "metadata": {
        "id": "rFgzwMTVgFzk"
      },
      "execution_count": null,
      "outputs": []
    }
  ]
}